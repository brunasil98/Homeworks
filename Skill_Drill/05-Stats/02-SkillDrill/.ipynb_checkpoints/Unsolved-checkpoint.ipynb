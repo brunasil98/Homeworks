{
 "cells": [
  {
   "cell_type": "code",
   "execution_count": 1,
   "metadata": {},
   "outputs": [],
   "source": [
    "# Dependencies\n",
    "import pandas as pd\n",
    "from matplotlib import pyplot as plt\n",
    "import numpy as np\n",
    "import scipy.stats as stats\n",
    "import os\n",
    "#from sklearn import datasets\n",
    "#import statsmodels.api as sm"
   ]
  },
  {
   "cell_type": "code",
   "execution_count": 2,
   "metadata": {
    "scrolled": true
   },
   "outputs": [
    {
     "data": {
      "text/html": [
       "<div>\n",
       "<style scoped>\n",
       "    .dataframe tbody tr th:only-of-type {\n",
       "        vertical-align: middle;\n",
       "    }\n",
       "\n",
       "    .dataframe tbody tr th {\n",
       "        vertical-align: top;\n",
       "    }\n",
       "\n",
       "    .dataframe thead th {\n",
       "        text-align: right;\n",
       "    }\n",
       "</style>\n",
       "<table border=\"1\" class=\"dataframe\">\n",
       "  <thead>\n",
       "    <tr style=\"text-align: right;\">\n",
       "      <th></th>\n",
       "      <th>OBJECTID</th>\n",
       "      <th>CRV</th>\n",
       "      <th>Sale_Date</th>\n",
       "      <th>InRTOStudy</th>\n",
       "      <th>Neighborhoood</th>\n",
       "      <th>Ward</th>\n",
       "      <th>PropType</th>\n",
       "      <th>Address</th>\n",
       "      <th>HouseNumber</th>\n",
       "      <th>HouseNum</th>\n",
       "      <th>...</th>\n",
       "      <th>SuffixDire</th>\n",
       "      <th>Grantee</th>\n",
       "      <th>Grantor</th>\n",
       "      <th>Adjusted_S</th>\n",
       "      <th>Gross_Sale</th>\n",
       "      <th>SaleDate</th>\n",
       "      <th>Downpayment</th>\n",
       "      <th>X</th>\n",
       "      <th>Y</th>\n",
       "      <th>PIN_TEXT</th>\n",
       "    </tr>\n",
       "  </thead>\n",
       "  <tbody>\n",
       "    <tr>\n",
       "      <th>0</th>\n",
       "      <td>10001</td>\n",
       "      <td>204924.0</td>\n",
       "      <td>2014-02-26T00:00:00.000Z</td>\n",
       "      <td>No</td>\n",
       "      <td>VICTORY</td>\n",
       "      <td>4</td>\n",
       "      <td>Residential</td>\n",
       "      <td>4526 Xerxes AVE N</td>\n",
       "      <td>4526</td>\n",
       "      <td>NaN</td>\n",
       "      <td>...</td>\n",
       "      <td>N</td>\n",
       "      <td>David Anderson</td>\n",
       "      <td>Janet L Rollmann</td>\n",
       "      <td>155103</td>\n",
       "      <td>159900.0</td>\n",
       "      <td>2014-02-26T00:00:00.000Z</td>\n",
       "      <td>15990.0</td>\n",
       "      <td>516655.530538</td>\n",
       "      <td>190166.659712</td>\n",
       "      <td>1111821330128</td>\n",
       "    </tr>\n",
       "    <tr>\n",
       "      <th>1</th>\n",
       "      <td>10002</td>\n",
       "      <td>233969.0</td>\n",
       "      <td>2014-06-25T00:00:00.000Z</td>\n",
       "      <td>Yes</td>\n",
       "      <td>VICTORY</td>\n",
       "      <td>4</td>\n",
       "      <td>Residential</td>\n",
       "      <td>4566 Xerxes AVE N</td>\n",
       "      <td>4566</td>\n",
       "      <td>NaN</td>\n",
       "      <td>...</td>\n",
       "      <td>N</td>\n",
       "      <td>Darryl L Bell</td>\n",
       "      <td>Deborah J Boardley</td>\n",
       "      <td>162000</td>\n",
       "      <td>169500.0</td>\n",
       "      <td>2014-06-25T00:00:00.000Z</td>\n",
       "      <td>4448.0</td>\n",
       "      <td>516643.782209</td>\n",
       "      <td>190666.537525</td>\n",
       "      <td>1111821330138</td>\n",
       "    </tr>\n",
       "    <tr>\n",
       "      <th>2</th>\n",
       "      <td>10003</td>\n",
       "      <td>233969.0</td>\n",
       "      <td>2014-06-25T00:00:00.000Z</td>\n",
       "      <td>Yes</td>\n",
       "      <td>VICTORY</td>\n",
       "      <td>4</td>\n",
       "      <td>Residential</td>\n",
       "      <td>4566 Xerxes AVE N</td>\n",
       "      <td>4566</td>\n",
       "      <td>NaN</td>\n",
       "      <td>...</td>\n",
       "      <td>N</td>\n",
       "      <td>Darryl L Bell</td>\n",
       "      <td>Tracy Everson</td>\n",
       "      <td>162000</td>\n",
       "      <td>169500.0</td>\n",
       "      <td>2014-06-25T00:00:00.000Z</td>\n",
       "      <td>4448.0</td>\n",
       "      <td>516643.782209</td>\n",
       "      <td>190666.537525</td>\n",
       "      <td>1111821330138</td>\n",
       "    </tr>\n",
       "    <tr>\n",
       "      <th>3</th>\n",
       "      <td>10004</td>\n",
       "      <td>71027.0</td>\n",
       "      <td>2014-07-18T00:00:00.000Z</td>\n",
       "      <td>Yes</td>\n",
       "      <td>VICTORY</td>\n",
       "      <td>4</td>\n",
       "      <td>Residential</td>\n",
       "      <td>4574 Xerxes AVE N</td>\n",
       "      <td>4574</td>\n",
       "      <td>NaN</td>\n",
       "      <td>...</td>\n",
       "      <td>N</td>\n",
       "      <td>Krista M Torning</td>\n",
       "      <td>Karen L Holland</td>\n",
       "      <td>162500</td>\n",
       "      <td>162500.0</td>\n",
       "      <td>2014-07-18T00:00:00.000Z</td>\n",
       "      <td>NaN</td>\n",
       "      <td>516641.329215</td>\n",
       "      <td>190769.809892</td>\n",
       "      <td>1111821330140</td>\n",
       "    </tr>\n",
       "    <tr>\n",
       "      <th>4</th>\n",
       "      <td>10005</td>\n",
       "      <td>272354.0</td>\n",
       "      <td>2014-10-10T00:00:00.000Z</td>\n",
       "      <td>Yes</td>\n",
       "      <td>LINDEN HILLS</td>\n",
       "      <td>13</td>\n",
       "      <td>Residential</td>\n",
       "      <td>4600 Xerxes AVE S</td>\n",
       "      <td>4600</td>\n",
       "      <td>NaN</td>\n",
       "      <td>...</td>\n",
       "      <td>S</td>\n",
       "      <td>Robert W Nichols III</td>\n",
       "      <td>Brian D Renbarger</td>\n",
       "      <td>277900</td>\n",
       "      <td>284900.0</td>\n",
       "      <td>2014-10-10T00:00:00.000Z</td>\n",
       "      <td>2000.0</td>\n",
       "      <td>516598.558439</td>\n",
       "      <td>146839.634287</td>\n",
       "      <td>1702824210001</td>\n",
       "    </tr>\n",
       "  </tbody>\n",
       "</table>\n",
       "<p>5 rows × 23 columns</p>\n",
       "</div>"
      ],
      "text/plain": [
       "   OBJECTID       CRV                 Sale_Date InRTOStudy Neighborhoood  \\\n",
       "0     10001  204924.0  2014-02-26T00:00:00.000Z         No       VICTORY   \n",
       "1     10002  233969.0  2014-06-25T00:00:00.000Z        Yes       VICTORY   \n",
       "2     10003  233969.0  2014-06-25T00:00:00.000Z        Yes       VICTORY   \n",
       "3     10004   71027.0  2014-07-18T00:00:00.000Z        Yes       VICTORY   \n",
       "4     10005  272354.0  2014-10-10T00:00:00.000Z        Yes  LINDEN HILLS   \n",
       "\n",
       "   Ward     PropType            Address  HouseNumber HouseNum  ...  \\\n",
       "0     4  Residential  4526 Xerxes AVE N         4526      NaN  ...   \n",
       "1     4  Residential  4566 Xerxes AVE N         4566      NaN  ...   \n",
       "2     4  Residential  4566 Xerxes AVE N         4566      NaN  ...   \n",
       "3     4  Residential  4574 Xerxes AVE N         4574      NaN  ...   \n",
       "4    13  Residential  4600 Xerxes AVE S         4600      NaN  ...   \n",
       "\n",
       "   SuffixDire               Grantee             Grantor Adjusted_S Gross_Sale  \\\n",
       "0           N        David Anderson    Janet L Rollmann     155103   159900.0   \n",
       "1           N         Darryl L Bell  Deborah J Boardley     162000   169500.0   \n",
       "2           N         Darryl L Bell       Tracy Everson     162000   169500.0   \n",
       "3           N      Krista M Torning     Karen L Holland     162500   162500.0   \n",
       "4           S  Robert W Nichols III   Brian D Renbarger     277900   284900.0   \n",
       "\n",
       "                   SaleDate  Downpayment              X              Y  \\\n",
       "0  2014-02-26T00:00:00.000Z      15990.0  516655.530538  190166.659712   \n",
       "1  2014-06-25T00:00:00.000Z       4448.0  516643.782209  190666.537525   \n",
       "2  2014-06-25T00:00:00.000Z       4448.0  516643.782209  190666.537525   \n",
       "3  2014-07-18T00:00:00.000Z          NaN  516641.329215  190769.809892   \n",
       "4  2014-10-10T00:00:00.000Z       2000.0  516598.558439  146839.634287   \n",
       "\n",
       "        PIN_TEXT  \n",
       "0  1111821330128  \n",
       "1  1111821330138  \n",
       "2  1111821330138  \n",
       "3  1111821330140  \n",
       "4  1702824210001  \n",
       "\n",
       "[5 rows x 23 columns]"
      ]
     },
     "execution_count": 2,
     "metadata": {},
     "output_type": "execute_result"
    }
   ],
   "source": [
    "property_file = os.path.join('Resources', 'property_sales.csv')\n",
    "property_df = pd.read_csv(property_file)\n",
    "property_df.head()"
   ]
  },
  {
   "cell_type": "code",
   "execution_count": 3,
   "metadata": {},
   "outputs": [],
   "source": [
    "new_df = pd.DataFrame()\n",
    "new_df= property_df.loc[property_df[\"Gross_Sale\"]<1000000, :]"
   ]
  },
  {
   "cell_type": "code",
   "execution_count": 4,
   "metadata": {},
   "outputs": [],
   "source": [
    "#new_df ['Sale'] = property_df['Gross_Sale']\n",
    "#sales = np.random.choice(property_df['Adjusted_S'],size = 1000,replace=False)\n"
   ]
  },
  {
   "cell_type": "code",
   "execution_count": 5,
   "metadata": {},
   "outputs": [
    {
     "data": {
      "text/html": [
       "<div>\n",
       "<style scoped>\n",
       "    .dataframe tbody tr th:only-of-type {\n",
       "        vertical-align: middle;\n",
       "    }\n",
       "\n",
       "    .dataframe tbody tr th {\n",
       "        vertical-align: top;\n",
       "    }\n",
       "\n",
       "    .dataframe thead th {\n",
       "        text-align: right;\n",
       "    }\n",
       "</style>\n",
       "<table border=\"1\" class=\"dataframe\">\n",
       "  <thead>\n",
       "    <tr style=\"text-align: right;\">\n",
       "      <th></th>\n",
       "      <th>OBJECTID</th>\n",
       "      <th>CRV</th>\n",
       "      <th>Sale_Date</th>\n",
       "      <th>InRTOStudy</th>\n",
       "      <th>Neighborhoood</th>\n",
       "      <th>Ward</th>\n",
       "      <th>PropType</th>\n",
       "      <th>Address</th>\n",
       "      <th>HouseNumber</th>\n",
       "      <th>HouseNum</th>\n",
       "      <th>...</th>\n",
       "      <th>SuffixDire</th>\n",
       "      <th>Grantee</th>\n",
       "      <th>Grantor</th>\n",
       "      <th>Adjusted_S</th>\n",
       "      <th>Gross_Sale</th>\n",
       "      <th>SaleDate</th>\n",
       "      <th>Downpayment</th>\n",
       "      <th>X</th>\n",
       "      <th>Y</th>\n",
       "      <th>PIN_TEXT</th>\n",
       "    </tr>\n",
       "  </thead>\n",
       "  <tbody>\n",
       "    <tr>\n",
       "      <th>0</th>\n",
       "      <td>10001</td>\n",
       "      <td>204924.0</td>\n",
       "      <td>2014-02-26T00:00:00.000Z</td>\n",
       "      <td>No</td>\n",
       "      <td>VICTORY</td>\n",
       "      <td>4</td>\n",
       "      <td>Residential</td>\n",
       "      <td>4526 Xerxes AVE N</td>\n",
       "      <td>4526</td>\n",
       "      <td>NaN</td>\n",
       "      <td>...</td>\n",
       "      <td>N</td>\n",
       "      <td>David Anderson</td>\n",
       "      <td>Janet L Rollmann</td>\n",
       "      <td>155103</td>\n",
       "      <td>159900.0</td>\n",
       "      <td>2014-02-26T00:00:00.000Z</td>\n",
       "      <td>15990.0</td>\n",
       "      <td>516655.530538</td>\n",
       "      <td>190166.659712</td>\n",
       "      <td>1111821330128</td>\n",
       "    </tr>\n",
       "    <tr>\n",
       "      <th>1</th>\n",
       "      <td>10002</td>\n",
       "      <td>233969.0</td>\n",
       "      <td>2014-06-25T00:00:00.000Z</td>\n",
       "      <td>Yes</td>\n",
       "      <td>VICTORY</td>\n",
       "      <td>4</td>\n",
       "      <td>Residential</td>\n",
       "      <td>4566 Xerxes AVE N</td>\n",
       "      <td>4566</td>\n",
       "      <td>NaN</td>\n",
       "      <td>...</td>\n",
       "      <td>N</td>\n",
       "      <td>Darryl L Bell</td>\n",
       "      <td>Deborah J Boardley</td>\n",
       "      <td>162000</td>\n",
       "      <td>169500.0</td>\n",
       "      <td>2014-06-25T00:00:00.000Z</td>\n",
       "      <td>4448.0</td>\n",
       "      <td>516643.782209</td>\n",
       "      <td>190666.537525</td>\n",
       "      <td>1111821330138</td>\n",
       "    </tr>\n",
       "    <tr>\n",
       "      <th>2</th>\n",
       "      <td>10003</td>\n",
       "      <td>233969.0</td>\n",
       "      <td>2014-06-25T00:00:00.000Z</td>\n",
       "      <td>Yes</td>\n",
       "      <td>VICTORY</td>\n",
       "      <td>4</td>\n",
       "      <td>Residential</td>\n",
       "      <td>4566 Xerxes AVE N</td>\n",
       "      <td>4566</td>\n",
       "      <td>NaN</td>\n",
       "      <td>...</td>\n",
       "      <td>N</td>\n",
       "      <td>Darryl L Bell</td>\n",
       "      <td>Tracy Everson</td>\n",
       "      <td>162000</td>\n",
       "      <td>169500.0</td>\n",
       "      <td>2014-06-25T00:00:00.000Z</td>\n",
       "      <td>4448.0</td>\n",
       "      <td>516643.782209</td>\n",
       "      <td>190666.537525</td>\n",
       "      <td>1111821330138</td>\n",
       "    </tr>\n",
       "    <tr>\n",
       "      <th>3</th>\n",
       "      <td>10004</td>\n",
       "      <td>71027.0</td>\n",
       "      <td>2014-07-18T00:00:00.000Z</td>\n",
       "      <td>Yes</td>\n",
       "      <td>VICTORY</td>\n",
       "      <td>4</td>\n",
       "      <td>Residential</td>\n",
       "      <td>4574 Xerxes AVE N</td>\n",
       "      <td>4574</td>\n",
       "      <td>NaN</td>\n",
       "      <td>...</td>\n",
       "      <td>N</td>\n",
       "      <td>Krista M Torning</td>\n",
       "      <td>Karen L Holland</td>\n",
       "      <td>162500</td>\n",
       "      <td>162500.0</td>\n",
       "      <td>2014-07-18T00:00:00.000Z</td>\n",
       "      <td>NaN</td>\n",
       "      <td>516641.329215</td>\n",
       "      <td>190769.809892</td>\n",
       "      <td>1111821330140</td>\n",
       "    </tr>\n",
       "    <tr>\n",
       "      <th>4</th>\n",
       "      <td>10005</td>\n",
       "      <td>272354.0</td>\n",
       "      <td>2014-10-10T00:00:00.000Z</td>\n",
       "      <td>Yes</td>\n",
       "      <td>LINDEN HILLS</td>\n",
       "      <td>13</td>\n",
       "      <td>Residential</td>\n",
       "      <td>4600 Xerxes AVE S</td>\n",
       "      <td>4600</td>\n",
       "      <td>NaN</td>\n",
       "      <td>...</td>\n",
       "      <td>S</td>\n",
       "      <td>Robert W Nichols III</td>\n",
       "      <td>Brian D Renbarger</td>\n",
       "      <td>277900</td>\n",
       "      <td>284900.0</td>\n",
       "      <td>2014-10-10T00:00:00.000Z</td>\n",
       "      <td>2000.0</td>\n",
       "      <td>516598.558439</td>\n",
       "      <td>146839.634287</td>\n",
       "      <td>1702824210001</td>\n",
       "    </tr>\n",
       "  </tbody>\n",
       "</table>\n",
       "<p>5 rows × 23 columns</p>\n",
       "</div>"
      ],
      "text/plain": [
       "   OBJECTID       CRV                 Sale_Date InRTOStudy Neighborhoood  \\\n",
       "0     10001  204924.0  2014-02-26T00:00:00.000Z         No       VICTORY   \n",
       "1     10002  233969.0  2014-06-25T00:00:00.000Z        Yes       VICTORY   \n",
       "2     10003  233969.0  2014-06-25T00:00:00.000Z        Yes       VICTORY   \n",
       "3     10004   71027.0  2014-07-18T00:00:00.000Z        Yes       VICTORY   \n",
       "4     10005  272354.0  2014-10-10T00:00:00.000Z        Yes  LINDEN HILLS   \n",
       "\n",
       "   Ward     PropType            Address  HouseNumber HouseNum  ...  \\\n",
       "0     4  Residential  4526 Xerxes AVE N         4526      NaN  ...   \n",
       "1     4  Residential  4566 Xerxes AVE N         4566      NaN  ...   \n",
       "2     4  Residential  4566 Xerxes AVE N         4566      NaN  ...   \n",
       "3     4  Residential  4574 Xerxes AVE N         4574      NaN  ...   \n",
       "4    13  Residential  4600 Xerxes AVE S         4600      NaN  ...   \n",
       "\n",
       "   SuffixDire               Grantee             Grantor Adjusted_S Gross_Sale  \\\n",
       "0           N        David Anderson    Janet L Rollmann     155103   159900.0   \n",
       "1           N         Darryl L Bell  Deborah J Boardley     162000   169500.0   \n",
       "2           N         Darryl L Bell       Tracy Everson     162000   169500.0   \n",
       "3           N      Krista M Torning     Karen L Holland     162500   162500.0   \n",
       "4           S  Robert W Nichols III   Brian D Renbarger     277900   284900.0   \n",
       "\n",
       "                   SaleDate  Downpayment              X              Y  \\\n",
       "0  2014-02-26T00:00:00.000Z      15990.0  516655.530538  190166.659712   \n",
       "1  2014-06-25T00:00:00.000Z       4448.0  516643.782209  190666.537525   \n",
       "2  2014-06-25T00:00:00.000Z       4448.0  516643.782209  190666.537525   \n",
       "3  2014-07-18T00:00:00.000Z          NaN  516641.329215  190769.809892   \n",
       "4  2014-10-10T00:00:00.000Z       2000.0  516598.558439  146839.634287   \n",
       "\n",
       "        PIN_TEXT  \n",
       "0  1111821330128  \n",
       "1  1111821330138  \n",
       "2  1111821330138  \n",
       "3  1111821330140  \n",
       "4  1702824210001  \n",
       "\n",
       "[5 rows x 23 columns]"
      ]
     },
     "execution_count": 5,
     "metadata": {},
     "output_type": "execute_result"
    }
   ],
   "source": [
    "#new_df.set_index('Sale')\n",
    "new_df.dropna()\n",
    "new_df.head()"
   ]
  },
  {
   "cell_type": "code",
   "execution_count": 6,
   "metadata": {},
   "outputs": [
    {
     "data": {
      "text/plain": [
       "(array([1820., 3229., 2384., 1093.,  520.,  288.,  167.,  128.,   86.,\n",
       "          46.]),\n",
       " array([     0.,  99900., 199800., 299700., 399600., 499500., 599400.,\n",
       "        699300., 799200., 899100., 999000.]),\n",
       " <a list of 10 Patch objects>)"
      ]
     },
     "execution_count": 6,
     "metadata": {},
     "output_type": "execute_result"
    },
    {
     "data": {
      "image/png": "[encoded data removed]",
      "text/plain": [
       "<Figure size 432x288 with 1 Axes>"
      ]
     },
     "metadata": {
      "needs_background": "light"
     },
     "output_type": "display_data"
    }
   ],
   "source": [
    "plt.hist(new_df[\"Gross_Sale\"])"
   ]
  },
  {
   "cell_type": "code",
   "execution_count": 12,
   "metadata": {},
   "outputs": [
    {
     "data": {
      "text/plain": [
       "count      9761.000000\n",
       "mean     229014.142711\n",
       "std      165996.047049\n",
       "min           0.000000\n",
       "25%      120900.000000\n",
       "50%      193000.000000\n",
       "75%      290000.000000\n",
       "max      999000.000000\n",
       "Name: Gross_Sale, dtype: float64"
      ]
     },
     "execution_count": 12,
     "metadata": {},
     "output_type": "execute_result"
    }
   ],
   "source": [
    "new_df[\"Gross_Sale\"].describe()"
   ]
  },
  {
   "cell_type": "code",
   "execution_count": 7,
   "metadata": {},
   "outputs": [],
   "source": [
    "## In the first part of the exercise we could do a normality of\n",
    "# gross_sale column. And we can see perfectly that 75% of property goes\n",
    "# to 120900 to 290000. "
   ]
  },
  {
   "cell_type": "code",
   "execution_count": 8,
   "metadata": {},
   "outputs": [],
   "source": [
    "############# Second Part"
   ]
  },
  {
   "cell_type": "code",
   "execution_count": 9,
   "metadata": {},
   "outputs": [],
   "source": [
    "sample1 = np.random.choice(new_df['Gross_Sale'],size=200,replace=True)\n",
    "sample2 = np.random.choice(new_df['Gross_Sale'],size=200,replace=True)\n",
    "   "
   ]
  },
  {
   "cell_type": "code",
   "execution_count": 10,
   "metadata": {},
   "outputs": [
    {
     "data": {
      "text/plain": [
       "<matplotlib.legend.Legend at 0x1bfb6a1f0d0>"
      ]
     },
     "execution_count": 10,
     "metadata": {},
     "output_type": "execute_result"
    },
    {
     "data": {
      "image/png": "[encoded data removed]",
      "text/plain": [
       "<Figure size 432x288 with 1 Axes>"
      ]
     },
     "metadata": {
      "needs_background": "light"
     },
     "output_type": "display_data"
    }
   ],
   "source": [
    "  # Histogram Plot of Data\n",
    "#plt.subplot(2,1,1)\n",
    "plt.hist(sample1, 20, density=True, alpha=0.7, label=\"One\")\n",
    "plt.hist(sample2, 20, density=True, alpha=0.7, label=\"Two\")\n",
    "    #plt.axvline(population.mean(), color='k', linestyle='dashed', linewidth=1)\n",
    "    #plt.axvline(sample.mean(), color='k', linestyle='dashed', linewidth=1)\n",
    "plt.legend() "
   ]
  },
  {
   "cell_type": "code",
   "execution_count": 11,
   "metadata": {},
   "outputs": [
    {
     "data": {
      "text/plain": [
       "Ttest_indResult(statistic=0.07399118105647273, pvalue=0.9410545798650121)"
      ]
     },
     "execution_count": 11,
     "metadata": {},
     "output_type": "execute_result"
    }
   ],
   "source": [
    "stats.ttest_ind(sample1, sample2, equal_var=False)"
   ]
  },
  {
   "cell_type": "code",
   "execution_count": null,
   "metadata": {},
   "outputs": [],
   "source": [
    "## In the Second part of the exercise, we could extract two samples \n",
    "#from the same data (gross_sale column). \n",
    "#After, we obtained a pvalue and see the data are similar. (p-value = 0.94)"
   ]
  },
  {
   "cell_type": "code",
   "execution_count": null,
   "metadata": {},
   "outputs": [],
   "source": []
  },
  {
   "cell_type": "code",
   "execution_count": null,
   "metadata": {},
   "outputs": [],
   "source": []
  }
 ],
 "metadata": {
  "kernelspec": {
   "display_name": "Python 3",
   "language": "python",
   "name": "python3"
  },
  "language_info": {
   "codemirror_mode": {
    "name": "ipython",
    "version": 3
   },
   "file_extension": ".py",
   "mimetype": "text/x-python",
   "name": "python",
   "nbconvert_exporter": "python",
   "pygments_lexer": "ipython3",
   "version": "3.8.3"
  }
 },
 "nbformat": 4,
 "nbformat_minor": 4
}
