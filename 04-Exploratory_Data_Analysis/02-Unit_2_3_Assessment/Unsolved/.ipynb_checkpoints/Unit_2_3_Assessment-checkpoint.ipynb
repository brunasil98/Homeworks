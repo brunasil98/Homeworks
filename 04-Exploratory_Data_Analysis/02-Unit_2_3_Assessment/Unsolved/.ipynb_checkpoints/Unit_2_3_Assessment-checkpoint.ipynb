{
 "cells": [
  {
   "cell_type": "markdown",
   "metadata": {},
   "source": [
    "# Instructions"
   ]
  },
  {
   "cell_type": "markdown",
   "metadata": {},
   "source": [
    "Read each question carefully and provide an appropriate answer in the following cells. Depending on the question, you may need to provide code or a text submission. **Be sure to label your answers with the question number for easy identification!**"
   ]
  },
  {
   "cell_type": "markdown",
   "metadata": {},
   "source": [
    "**Question 1: Which of the following statements is the correct way to import a csv into a Pandas DataFrame? (2 points)** \n",
    "\n",
    "A. \n",
    "\n",
    "```python\n",
    "import pandas as pd\n",
    "infile = pd.read_csv(file_name)\n",
    "```\n",
    "\n",
    "\n",
    "B. \n",
    "\n",
    "```python\n",
    "import pandas as pd\n",
    "infile = pd.readCSV(file_name)\n",
    "```\n",
    "\n",
    "\n",
    "C. \n",
    "\n",
    "```python\n",
    "import pandas as pd\n",
    "infile = read_file(file_name)\n",
    "```\n",
    "\n",
    "\n",
    "D. \n",
    "\n",
    "```python\n",
    "import pandas as pd\n",
    "df.read_file(file_name)\n",
    "```\n"
   ]
  },
  {
   "cell_type": "code",
   "execution_count": null,
   "metadata": {},
   "outputs": [],
   "source": [
    "# Answer 1\n",
    "#### A ###"
   ]
  },
  {
   "cell_type": "markdown",
   "metadata": {},
   "source": [
    "**Question 2: Create a code block that first imports the `student.json` file into a Pandas dataframe named `grades`, then creates a new dataframe named `passing` that contains only the students whose `Pass/Fail` status equals `PASS`. (5 points)**"
   ]
  },
  {
   "cell_type": "code",
   "execution_count": 3,
   "metadata": {},
   "outputs": [],
   "source": [
    "# Answer 2\n",
    "import pandas as pd\n",
    "import os"
   ]
  },
  {
   "cell_type": "code",
   "execution_count": null,
   "metadata": {},
   "outputs": [],
   "source": [
    "grades = pd.read_json('student.json')\n",
    "grades.set_index('Student Name')\n"
   ]
  },
  {
   "cell_type": "code",
   "execution_count": null,
   "metadata": {},
   "outputs": [],
   "source": [
    "passing = grades[grades['Pass/Fail'] =='PASS']\n",
    "passing"
   ]
  },
  {
   "cell_type": "markdown",
   "metadata": {},
   "source": [
    "**Question 3: Create a code block that creates a Pandas dataframe with the following columns and values: (5 points)**\n",
    "\n",
    "* `Stock_Symbol`: AAPL, GOOG, TSLA, KO, MSFT\n",
    "* `Company_Name`: Apple, Google, Tesla, Coca-Cola, Microsoft\n",
    "* `52_Week_High`: 145.09, 1934.86, 900.40, 60.13, 242.64"
   ]
  },
  {
   "cell_type": "code",
   "execution_count": null,
   "metadata": {},
   "outputs": [],
   "source": [
    "# Answer 3"
   ]
  },
  {
   "cell_type": "code",
   "execution_count": null,
   "metadata": {},
   "outputs": [],
   "source": [
    "d = {'Stock_Symbol':['AAPL',' GOOG','  TSLA','  KO',' MSFT'],'Company_Name':['Apple','Google','Tesla','Coca-Cola','Microsoft'],'52_Week_High':[145.09, 1934.86, 900.40, 60.13, 242.64]}\n",
    "df = pd.DataFrame(data = d)\n",
    "df"
   ]
  },
  {
   "cell_type": "code",
   "execution_count": null,
   "metadata": {},
   "outputs": [],
   "source": []
  },
  {
   "cell_type": "code",
   "execution_count": null,
   "metadata": {},
   "outputs": [],
   "source": [
    "**Question 4: Which of the following `git` commands creates a new branch in your local repository? (2 points):**\n",
    "\n",
    "A. `git clone`\n",
    "\n",
    "B. `git pull <branch name>` \n",
    "\n",
    "C. `git checkout -b <branch name>`\n",
    "\n",
    "D. `git push -b <branch name>`"
   ]
  },
  {
   "cell_type": "code",
   "execution_count": null,
   "metadata": {},
   "outputs": [],
   "source": [
    "# Answer 4\n",
    "####   C. git checkout -b <branch name>     ####"
   ]
  },
  {
   "cell_type": "code",
   "execution_count": null,
   "metadata": {},
   "outputs": [],
   "source": []
  },
  {
   "cell_type": "markdown",
   "metadata": {},
   "source": [
    "**Question 5: Create a code block that performs the following operations: (10 points)**\n",
    "\n",
    "   1. Import the `bitcoin_cash_price.csv` file into a Pandas dataframe called `bitcoin`.\n",
    "   \n",
    "   2. Import the `dash_price.csv` file into a Pandas dataframe called `dash`.\n",
    "   \n",
    "   3. Merge the `bitcoin` and `dash` dataframes using the `Date` column as the identifier column. Name this new merged dataframe `crypto`. \n",
    "   \n",
    "   4. Create a new `Delta_Volume` column in the `crypto` dataframe that calculates the largest **absolute** difference between the bitcoin `Volume` versus dash `Volume`.\n",
    "   \n",
    "     * **Hint:** Use `abs()` to calculate absolute value.\n",
    "   \n",
    "   \n",
    "   5. Find the row in the `crypto` dataframe that contains the maximum `Delta_Volume` value. Print the row out. "
   ]
  },
  {
   "cell_type": "code",
   "execution_count": 13,
   "metadata": {},
   "outputs": [
    {
     "data": {
      "text/html": [
       "<div>\n",
       "<style scoped>\n",
       "    .dataframe tbody tr th:only-of-type {\n",
       "        vertical-align: middle;\n",
       "    }\n",
       "\n",
       "    .dataframe tbody tr th {\n",
       "        vertical-align: top;\n",
       "    }\n",
       "\n",
       "    .dataframe thead th {\n",
       "        text-align: right;\n",
       "    }\n",
       "</style>\n",
       "<table border=\"1\" class=\"dataframe\">\n",
       "  <thead>\n",
       "    <tr style=\"text-align: right;\">\n",
       "      <th></th>\n",
       "      <th>Date</th>\n",
       "      <th>Open</th>\n",
       "      <th>High</th>\n",
       "      <th>Low</th>\n",
       "      <th>Close</th>\n",
       "      <th>Volume</th>\n",
       "      <th>Market Cap</th>\n",
       "    </tr>\n",
       "  </thead>\n",
       "  <tbody>\n",
       "    <tr>\n",
       "      <th>0</th>\n",
       "      <td>17-Sep-17</td>\n",
       "      <td>438.90</td>\n",
       "      <td>438.90</td>\n",
       "      <td>384.06</td>\n",
       "      <td>419.86</td>\n",
       "      <td>221828000.0</td>\n",
       "      <td>7,279,520,000</td>\n",
       "    </tr>\n",
       "    <tr>\n",
       "      <th>1</th>\n",
       "      <td>16-Sep-17</td>\n",
       "      <td>424.49</td>\n",
       "      <td>450.98</td>\n",
       "      <td>388.20</td>\n",
       "      <td>440.22</td>\n",
       "      <td>313583000.0</td>\n",
       "      <td>7,039,590,000</td>\n",
       "    </tr>\n",
       "    <tr>\n",
       "      <th>2</th>\n",
       "      <td>15-Sep-17</td>\n",
       "      <td>369.49</td>\n",
       "      <td>448.39</td>\n",
       "      <td>301.69</td>\n",
       "      <td>424.02</td>\n",
       "      <td>707231000.0</td>\n",
       "      <td>6,126,800,000</td>\n",
       "    </tr>\n",
       "    <tr>\n",
       "      <th>3</th>\n",
       "      <td>14-Sep-17</td>\n",
       "      <td>504.22</td>\n",
       "      <td>510.47</td>\n",
       "      <td>367.04</td>\n",
       "      <td>367.04</td>\n",
       "      <td>257431000.0</td>\n",
       "      <td>8,359,650,000</td>\n",
       "    </tr>\n",
       "    <tr>\n",
       "      <th>4</th>\n",
       "      <td>13-Sep-17</td>\n",
       "      <td>509.47</td>\n",
       "      <td>519.20</td>\n",
       "      <td>471.22</td>\n",
       "      <td>503.61</td>\n",
       "      <td>340344000.0</td>\n",
       "      <td>8,445,540,000</td>\n",
       "    </tr>\n",
       "  </tbody>\n",
       "</table>\n",
       "</div>"
      ],
      "text/plain": [
       "        Date    Open    High     Low   Close       Volume     Market Cap\n",
       "0  17-Sep-17  438.90  438.90  384.06  419.86  221828000.0  7,279,520,000\n",
       "1  16-Sep-17  424.49  450.98  388.20  440.22  313583000.0  7,039,590,000\n",
       "2  15-Sep-17  369.49  448.39  301.69  424.02  707231000.0  6,126,800,000\n",
       "3  14-Sep-17  504.22  510.47  367.04  367.04  257431000.0  8,359,650,000\n",
       "4  13-Sep-17  509.47  519.20  471.22  503.61  340344000.0  8,445,540,000"
      ]
     },
     "execution_count": 13,
     "metadata": {},
     "output_type": "execute_result"
    }
   ],
   "source": [
    "# Answer 5\n",
    "path = os.path.join('bitcoin_cash_price.csv')\n",
    "bitcoin = pd.read_csv(path)\n",
    "bitcoin.head()"
   ]
  },
  {
   "cell_type": "code",
   "execution_count": 14,
   "metadata": {},
   "outputs": [
    {
     "data": {
      "text/html": [
       "<div>\n",
       "<style scoped>\n",
       "    .dataframe tbody tr th:only-of-type {\n",
       "        vertical-align: middle;\n",
       "    }\n",
       "\n",
       "    .dataframe tbody tr th {\n",
       "        vertical-align: top;\n",
       "    }\n",
       "\n",
       "    .dataframe thead th {\n",
       "        text-align: right;\n",
       "    }\n",
       "</style>\n",
       "<table border=\"1\" class=\"dataframe\">\n",
       "  <thead>\n",
       "    <tr style=\"text-align: right;\">\n",
       "      <th></th>\n",
       "      <th>Date</th>\n",
       "      <th>Open</th>\n",
       "      <th>High</th>\n",
       "      <th>Low</th>\n",
       "      <th>Close</th>\n",
       "      <th>Volume</th>\n",
       "      <th>Market Cap</th>\n",
       "    </tr>\n",
       "  </thead>\n",
       "  <tbody>\n",
       "    <tr>\n",
       "      <th>0</th>\n",
       "      <td>17-Sep-17</td>\n",
       "      <td>298.59</td>\n",
       "      <td>315.58</td>\n",
       "      <td>278.17</td>\n",
       "      <td>313.84</td>\n",
       "      <td>38081600.0</td>\n",
       "      <td>2,257,850,000</td>\n",
       "    </tr>\n",
       "    <tr>\n",
       "      <th>1</th>\n",
       "      <td>16-Sep-17</td>\n",
       "      <td>284.50</td>\n",
       "      <td>301.23</td>\n",
       "      <td>276.57</td>\n",
       "      <td>298.86</td>\n",
       "      <td>43702600.0</td>\n",
       "      <td>2,150,800,000</td>\n",
       "    </tr>\n",
       "    <tr>\n",
       "      <th>2</th>\n",
       "      <td>15-Sep-17</td>\n",
       "      <td>236.05</td>\n",
       "      <td>300.11</td>\n",
       "      <td>220.51</td>\n",
       "      <td>284.36</td>\n",
       "      <td>72695500.0</td>\n",
       "      <td>1,784,040,000</td>\n",
       "    </tr>\n",
       "    <tr>\n",
       "      <th>3</th>\n",
       "      <td>14-Sep-17</td>\n",
       "      <td>301.11</td>\n",
       "      <td>303.74</td>\n",
       "      <td>236.24</td>\n",
       "      <td>236.24</td>\n",
       "      <td>35013800.0</td>\n",
       "      <td>2,275,100,000</td>\n",
       "    </tr>\n",
       "    <tr>\n",
       "      <th>4</th>\n",
       "      <td>13-Sep-17</td>\n",
       "      <td>324.72</td>\n",
       "      <td>325.16</td>\n",
       "      <td>287.25</td>\n",
       "      <td>301.29</td>\n",
       "      <td>28322500.0</td>\n",
       "      <td>2,452,930,000</td>\n",
       "    </tr>\n",
       "  </tbody>\n",
       "</table>\n",
       "</div>"
      ],
      "text/plain": [
       "        Date    Open    High     Low   Close      Volume     Market Cap\n",
       "0  17-Sep-17  298.59  315.58  278.17  313.84  38081600.0  2,257,850,000\n",
       "1  16-Sep-17  284.50  301.23  276.57  298.86  43702600.0  2,150,800,000\n",
       "2  15-Sep-17  236.05  300.11  220.51  284.36  72695500.0  1,784,040,000\n",
       "3  14-Sep-17  301.11  303.74  236.24  236.24  35013800.0  2,275,100,000\n",
       "4  13-Sep-17  324.72  325.16  287.25  301.29  28322500.0  2,452,930,000"
      ]
     },
     "execution_count": 14,
     "metadata": {},
     "output_type": "execute_result"
    }
   ],
   "source": [
    "path_2 = os.path.join('dash_price.csv')\n",
    "dash = pd.read_csv(path_2)\n",
    "dash.head()"
   ]
  },
  {
   "cell_type": "code",
   "execution_count": 15,
   "metadata": {},
   "outputs": [
    {
     "data": {
      "text/html": [
       "<div>\n",
       "<style scoped>\n",
       "    .dataframe tbody tr th:only-of-type {\n",
       "        vertical-align: middle;\n",
       "    }\n",
       "\n",
       "    .dataframe tbody tr th {\n",
       "        vertical-align: top;\n",
       "    }\n",
       "\n",
       "    .dataframe thead th {\n",
       "        text-align: right;\n",
       "    }\n",
       "</style>\n",
       "<table border=\"1\" class=\"dataframe\">\n",
       "  <thead>\n",
       "    <tr style=\"text-align: right;\">\n",
       "      <th></th>\n",
       "      <th>Date</th>\n",
       "      <th>Open BC</th>\n",
       "      <th>High BC</th>\n",
       "      <th>Low BC</th>\n",
       "      <th>Close BC</th>\n",
       "      <th>Volume BC</th>\n",
       "      <th>Market Cap BC</th>\n",
       "      <th>Open Dash</th>\n",
       "      <th>High Dash</th>\n",
       "      <th>Low Dash</th>\n",
       "      <th>Close Dash</th>\n",
       "      <th>Volume Dash</th>\n",
       "      <th>Market Cap Dash</th>\n",
       "    </tr>\n",
       "  </thead>\n",
       "  <tbody>\n",
       "    <tr>\n",
       "      <th>0</th>\n",
       "      <td>17-Sep-17</td>\n",
       "      <td>438.90</td>\n",
       "      <td>438.90</td>\n",
       "      <td>384.06</td>\n",
       "      <td>419.86</td>\n",
       "      <td>221828000.0</td>\n",
       "      <td>7,279,520,000</td>\n",
       "      <td>298.59</td>\n",
       "      <td>315.58</td>\n",
       "      <td>278.17</td>\n",
       "      <td>313.84</td>\n",
       "      <td>38081600.0</td>\n",
       "      <td>2,257,850,000</td>\n",
       "    </tr>\n",
       "    <tr>\n",
       "      <th>1</th>\n",
       "      <td>16-Sep-17</td>\n",
       "      <td>424.49</td>\n",
       "      <td>450.98</td>\n",
       "      <td>388.20</td>\n",
       "      <td>440.22</td>\n",
       "      <td>313583000.0</td>\n",
       "      <td>7,039,590,000</td>\n",
       "      <td>284.50</td>\n",
       "      <td>301.23</td>\n",
       "      <td>276.57</td>\n",
       "      <td>298.86</td>\n",
       "      <td>43702600.0</td>\n",
       "      <td>2,150,800,000</td>\n",
       "    </tr>\n",
       "    <tr>\n",
       "      <th>2</th>\n",
       "      <td>15-Sep-17</td>\n",
       "      <td>369.49</td>\n",
       "      <td>448.39</td>\n",
       "      <td>301.69</td>\n",
       "      <td>424.02</td>\n",
       "      <td>707231000.0</td>\n",
       "      <td>6,126,800,000</td>\n",
       "      <td>236.05</td>\n",
       "      <td>300.11</td>\n",
       "      <td>220.51</td>\n",
       "      <td>284.36</td>\n",
       "      <td>72695500.0</td>\n",
       "      <td>1,784,040,000</td>\n",
       "    </tr>\n",
       "    <tr>\n",
       "      <th>3</th>\n",
       "      <td>14-Sep-17</td>\n",
       "      <td>504.22</td>\n",
       "      <td>510.47</td>\n",
       "      <td>367.04</td>\n",
       "      <td>367.04</td>\n",
       "      <td>257431000.0</td>\n",
       "      <td>8,359,650,000</td>\n",
       "      <td>301.11</td>\n",
       "      <td>303.74</td>\n",
       "      <td>236.24</td>\n",
       "      <td>236.24</td>\n",
       "      <td>35013800.0</td>\n",
       "      <td>2,275,100,000</td>\n",
       "    </tr>\n",
       "    <tr>\n",
       "      <th>4</th>\n",
       "      <td>13-Sep-17</td>\n",
       "      <td>509.47</td>\n",
       "      <td>519.20</td>\n",
       "      <td>471.22</td>\n",
       "      <td>503.61</td>\n",
       "      <td>340344000.0</td>\n",
       "      <td>8,445,540,000</td>\n",
       "      <td>324.72</td>\n",
       "      <td>325.16</td>\n",
       "      <td>287.25</td>\n",
       "      <td>301.29</td>\n",
       "      <td>28322500.0</td>\n",
       "      <td>2,452,930,000</td>\n",
       "    </tr>\n",
       "  </tbody>\n",
       "</table>\n",
       "</div>"
      ],
      "text/plain": [
       "        Date  Open BC  High BC  Low BC  Close BC    Volume BC  Market Cap BC  \\\n",
       "0  17-Sep-17   438.90   438.90  384.06    419.86  221828000.0  7,279,520,000   \n",
       "1  16-Sep-17   424.49   450.98  388.20    440.22  313583000.0  7,039,590,000   \n",
       "2  15-Sep-17   369.49   448.39  301.69    424.02  707231000.0  6,126,800,000   \n",
       "3  14-Sep-17   504.22   510.47  367.04    367.04  257431000.0  8,359,650,000   \n",
       "4  13-Sep-17   509.47   519.20  471.22    503.61  340344000.0  8,445,540,000   \n",
       "\n",
       "   Open Dash  High Dash  Low Dash  Close Dash  Volume Dash Market Cap Dash  \n",
       "0     298.59     315.58    278.17      313.84   38081600.0   2,257,850,000  \n",
       "1     284.50     301.23    276.57      298.86   43702600.0   2,150,800,000  \n",
       "2     236.05     300.11    220.51      284.36   72695500.0   1,784,040,000  \n",
       "3     301.11     303.74    236.24      236.24   35013800.0   2,275,100,000  \n",
       "4     324.72     325.16    287.25      301.29   28322500.0   2,452,930,000  "
      ]
     },
     "execution_count": 15,
     "metadata": {},
     "output_type": "execute_result"
    }
   ],
   "source": [
    "crypto = pd.merge(bitcoin,dash,on = 'Date', suffixes=(' BC',' Dash'))\n",
    "crypto.head()"
   ]
  },
  {
   "cell_type": "code",
   "execution_count": 31,
   "metadata": {},
   "outputs": [],
   "source": [
    "DV_cal =(crypto['Volume BC'] - crypto['Volume Dash'])/100000000"
   ]
  },
  {
   "cell_type": "code",
   "execution_count": 32,
   "metadata": {},
   "outputs": [],
   "source": [
    "crypto['Delta_Volume'] = DV_cal.abs()"
   ]
  },
  {
   "cell_type": "code",
   "execution_count": 43,
   "metadata": {},
   "outputs": [
    {
     "data": {
      "text/html": [
       "<div>\n",
       "<style scoped>\n",
       "    .dataframe tbody tr th:only-of-type {\n",
       "        vertical-align: middle;\n",
       "    }\n",
       "\n",
       "    .dataframe tbody tr th {\n",
       "        vertical-align: top;\n",
       "    }\n",
       "\n",
       "    .dataframe thead th {\n",
       "        text-align: right;\n",
       "    }\n",
       "</style>\n",
       "<table border=\"1\" class=\"dataframe\">\n",
       "  <thead>\n",
       "    <tr style=\"text-align: right;\">\n",
       "      <th></th>\n",
       "      <th>Date</th>\n",
       "      <th>Open BC</th>\n",
       "      <th>High BC</th>\n",
       "      <th>Low BC</th>\n",
       "      <th>Close BC</th>\n",
       "      <th>Volume BC</th>\n",
       "      <th>Market Cap BC</th>\n",
       "      <th>Open Dash</th>\n",
       "      <th>High Dash</th>\n",
       "      <th>Low Dash</th>\n",
       "      <th>Close Dash</th>\n",
       "      <th>Volume Dash</th>\n",
       "      <th>Market Cap Dash</th>\n",
       "      <th>Delta_Volume</th>\n",
       "    </tr>\n",
       "  </thead>\n",
       "  <tbody>\n",
       "    <tr>\n",
       "      <th>30</th>\n",
       "      <td>18-Aug-17</td>\n",
       "      <td>458.67</td>\n",
       "      <td>764.07</td>\n",
       "      <td>458.67</td>\n",
       "      <td>690.24</td>\n",
       "      <td>3.087490e+09</td>\n",
       "      <td>7,565,590,000</td>\n",
       "      <td>233.84</td>\n",
       "      <td>240.41</td>\n",
       "      <td>219.42</td>\n",
       "      <td>224.28</td>\n",
       "      <td>50324200.0</td>\n",
       "      <td>1,753,350,000</td>\n",
       "      <td>30.371658</td>\n",
       "    </tr>\n",
       "  </tbody>\n",
       "</table>\n",
       "</div>"
      ],
      "text/plain": [
       "         Date  Open BC  High BC  Low BC  Close BC     Volume BC  \\\n",
       "30  18-Aug-17   458.67   764.07  458.67    690.24  3.087490e+09   \n",
       "\n",
       "    Market Cap BC  Open Dash  High Dash  Low Dash  Close Dash  Volume Dash  \\\n",
       "30  7,565,590,000     233.84     240.41    219.42      224.28   50324200.0   \n",
       "\n",
       "   Market Cap Dash  Delta_Volume  \n",
       "30   1,753,350,000     30.371658  "
      ]
     },
     "execution_count": 43,
     "metadata": {},
     "output_type": "execute_result"
    }
   ],
   "source": [
    "crypto[crypto['Delta_Volume'] == crypto['Delta_Volume'].max()]"
   ]
  },
  {
   "cell_type": "markdown",
   "metadata": {},
   "source": [
    "**Question 6: Which of the following statements adjusts the upper and lower limits on a Matplotlib visualization? (2 points)**\n",
    "\n",
    "A. \n",
    "\n",
    "```python\n",
    "import matplotlib.pyplot as plt\n",
    "plt.hlines(0,25,0, alpha=0.25)\n",
    "```\n",
    "\n",
    "B.\n",
    "\n",
    "```python\n",
    "import matplotlib.pyplot as plt\n",
    "plt.xlim(0,25)\n",
    "plt.ylim(0,25)\n",
    "```\n",
    "\n",
    "C.\n",
    "```python\n",
    "import matplotlib.pyplot as plt\n",
    "plt.grid(0,25,0,25)\n",
    "```\n",
    "\n",
    "D.\n",
    "```python\n",
    "import matplotlib.pyplot as plt\n",
    "plt.upper(0,25)\n",
    "plt.lower(0,25)\n",
    "```"
   ]
  },
  {
   "cell_type": "code",
   "execution_count": null,
   "metadata": {},
   "outputs": [],
   "source": [
    "# Answer 6\n",
    "#####  B   ##### "
   ]
  },
  {
   "cell_type": "markdown",
   "metadata": {},
   "source": [
    "**Question 7: Generate a bar plot that visualizes the following Netflix show IMDB ratings: (5 points)**\n",
    "\n",
    "`{\"Series\":[\"The Witcher\",\"Disenchantment\",\"Tiger King\",\"Ozark\",\"Stranger Things\"],\"User Ratings\":[8.2,7.2,7.6,8.4,8.7]}`"
   ]
  },
  {
   "cell_type": "code",
   "execution_count": null,
   "metadata": {},
   "outputs": [],
   "source": [
    "# Answer 7"
   ]
  },
  {
   "cell_type": "code",
   "execution_count": 44,
   "metadata": {},
   "outputs": [],
   "source": [
    "import matplotlib.pyplot as plt"
   ]
  },
  {
   "cell_type": "code",
   "execution_count": 98,
   "metadata": {},
   "outputs": [],
   "source": [
    "IMDB = {\"The Witcher\":8.2,\"Disenchantment\":7.2,\"Tiger King\":7.6,\"Ozark\":8.4,\"Stranger Things\":8.7}"
   ]
  },
  {
   "cell_type": "code",
   "execution_count": 99,
   "metadata": {},
   "outputs": [],
   "source": [
    "series = list(IMDB.keys())\n",
    "values =list (IMDB.values())"
   ]
  },
  {
   "cell_type": "code",
   "execution_count": 104,
   "metadata": {
    "scrolled": true
   },
   "outputs": [
    {
     "data": {
      "text/plain": [
       "Text(0, 0.5, 'IMDB score')"
      ]
     },
     "execution_count": 104,
     "metadata": {},
     "output_type": "execute_result"
    },
    {
     "data": {
      "image/png": "[encoded data removed]",
      "text/plain": [
       "<Figure size 432x288 with 1 Axes>"
      ]
     },
     "metadata": {
      "needs_background": "light"
     },
     "output_type": "display_data"
    }
   ],
   "source": [
    "plt.bar(series,values,width = 0.5)\n",
    "plt.xticks(rotation = 10)\n",
    "plt.xlabel ('Series')\n",
    "plt.ylabel ('IMDB score')"
   ]
  },
  {
   "cell_type": "code",
   "execution_count": null,
   "metadata": {},
   "outputs": [],
   "source": []
  },
  {
   "cell_type": "markdown",
   "metadata": {},
   "source": [
    "**Question 8: Which of the following statements corretly creates a Matplotlib visualization with four subplots? (2 points)**\n",
    "\n",
    "A. `plt.subplot()`\n",
    "\n",
    "B. `plt.subplot(1,2,3,4)`\n",
    "\n",
    "C. `plt.subplot(1,4)`\n",
    "\n",
    "D. `plt.subplot(2,2,1)`"
   ]
  },
  {
   "cell_type": "code",
   "execution_count": null,
   "metadata": {},
   "outputs": [],
   "source": [
    "# Answer 8\n",
    "\n",
    "###### D - plt.subplot(2,2,1)  #####"
   ]
  },
  {
   "cell_type": "markdown",
   "metadata": {},
   "source": [
    "**Question 9: Which of the following Matplotlib methods would you use to add a label to your plot with an arrow pointing to the value? (2 points)**\n",
    "\n",
    "A. `plt.annotate()`\n",
    "\n",
    "B. `plt.label()`\n",
    "\n",
    "C. `plt.show()`\n",
    "\n",
    "D. `plt.arrow()`"
   ]
  },
  {
   "cell_type": "code",
   "execution_count": null,
   "metadata": {},
   "outputs": [],
   "source": [
    "# Answer 9\n",
    "\n",
    "#### A. plt.annotate() ####"
   ]
  },
  {
   "cell_type": "markdown",
   "metadata": {},
   "source": [
    "**Question 10: Create a code block that performs the following operations: (15 points)**\n",
    "\n",
    "1. Import the `earthquakes_database.csv` file into a Pandas dataframe named `earthquakes`\n",
    "\n",
    "2. Retrieve the names of the unique data sources found in the `Source` column within your `earthquakes` dataframe.\n",
    "\n",
    "    * **Hint:** There should be 13 data sources.\n",
    "\n",
    "\n",
    "3. Create a Matplotlib scatterplot for each data source that visualizes the `Magnitude` (y-axis) versus `Depth` (x-axis). Be sure to add axis labels to your axes and title each plot with the name of the data source.\n",
    "\n",
    "    * **Note:** You will need to filter the `earthquakes` dataframe for each category type.\n"
   ]
  },
  {
   "cell_type": "code",
   "execution_count": 179,
   "metadata": {
    "scrolled": false
   },
   "outputs": [
    {
     "data": {
      "text/html": [
       "<div>\n",
       "<style scoped>\n",
       "    .dataframe tbody tr th:only-of-type {\n",
       "        vertical-align: middle;\n",
       "    }\n",
       "\n",
       "    .dataframe tbody tr th {\n",
       "        vertical-align: top;\n",
       "    }\n",
       "\n",
       "    .dataframe thead th {\n",
       "        text-align: right;\n",
       "    }\n",
       "</style>\n",
       "<table border=\"1\" class=\"dataframe\">\n",
       "  <thead>\n",
       "    <tr style=\"text-align: right;\">\n",
       "      <th></th>\n",
       "      <th>Date</th>\n",
       "      <th>Time</th>\n",
       "      <th>Latitude</th>\n",
       "      <th>Longitude</th>\n",
       "      <th>Type</th>\n",
       "      <th>Depth</th>\n",
       "      <th>Depth Error</th>\n",
       "      <th>Depth Seismic Stations</th>\n",
       "      <th>Magnitude</th>\n",
       "      <th>10 ^ Magnitude</th>\n",
       "      <th>...</th>\n",
       "      <th>Magnitude Seismic Stations</th>\n",
       "      <th>Azimuthal Gap</th>\n",
       "      <th>Horizontal Distance</th>\n",
       "      <th>Horizontal Error</th>\n",
       "      <th>Root Mean Square</th>\n",
       "      <th>ID</th>\n",
       "      <th>Source</th>\n",
       "      <th>Location Source</th>\n",
       "      <th>Magnitude Source</th>\n",
       "      <th>Status</th>\n",
       "    </tr>\n",
       "  </thead>\n",
       "  <tbody>\n",
       "    <tr>\n",
       "      <th>0</th>\n",
       "      <td>1/2/65</td>\n",
       "      <td>13:44:18</td>\n",
       "      <td>19.246</td>\n",
       "      <td>145.616</td>\n",
       "      <td>Earthquake</td>\n",
       "      <td>131.6</td>\n",
       "      <td>NaN</td>\n",
       "      <td>NaN</td>\n",
       "      <td>6.0</td>\n",
       "      <td>1.000000e+06</td>\n",
       "      <td>...</td>\n",
       "      <td>NaN</td>\n",
       "      <td>NaN</td>\n",
       "      <td>NaN</td>\n",
       "      <td>NaN</td>\n",
       "      <td>NaN</td>\n",
       "      <td>ISCGEM860706</td>\n",
       "      <td>ISCGEM</td>\n",
       "      <td>ISCGEM</td>\n",
       "      <td>ISCGEM</td>\n",
       "      <td>Automatic</td>\n",
       "    </tr>\n",
       "    <tr>\n",
       "      <th>1</th>\n",
       "      <td>1/4/65</td>\n",
       "      <td>11:29:49</td>\n",
       "      <td>1.863</td>\n",
       "      <td>127.352</td>\n",
       "      <td>Earthquake</td>\n",
       "      <td>80.0</td>\n",
       "      <td>NaN</td>\n",
       "      <td>NaN</td>\n",
       "      <td>5.8</td>\n",
       "      <td>6.309573e+05</td>\n",
       "      <td>...</td>\n",
       "      <td>NaN</td>\n",
       "      <td>NaN</td>\n",
       "      <td>NaN</td>\n",
       "      <td>NaN</td>\n",
       "      <td>NaN</td>\n",
       "      <td>ISCGEM860737</td>\n",
       "      <td>ISCGEM</td>\n",
       "      <td>ISCGEM</td>\n",
       "      <td>ISCGEM</td>\n",
       "      <td>Automatic</td>\n",
       "    </tr>\n",
       "    <tr>\n",
       "      <th>2</th>\n",
       "      <td>1/5/65</td>\n",
       "      <td>18:05:58</td>\n",
       "      <td>-20.579</td>\n",
       "      <td>-173.972</td>\n",
       "      <td>Earthquake</td>\n",
       "      <td>20.0</td>\n",
       "      <td>NaN</td>\n",
       "      <td>NaN</td>\n",
       "      <td>6.2</td>\n",
       "      <td>1.584893e+06</td>\n",
       "      <td>...</td>\n",
       "      <td>NaN</td>\n",
       "      <td>NaN</td>\n",
       "      <td>NaN</td>\n",
       "      <td>NaN</td>\n",
       "      <td>NaN</td>\n",
       "      <td>ISCGEM860762</td>\n",
       "      <td>ISCGEM</td>\n",
       "      <td>ISCGEM</td>\n",
       "      <td>ISCGEM</td>\n",
       "      <td>Automatic</td>\n",
       "    </tr>\n",
       "    <tr>\n",
       "      <th>3</th>\n",
       "      <td>1/8/65</td>\n",
       "      <td>18:49:43</td>\n",
       "      <td>-59.076</td>\n",
       "      <td>-23.557</td>\n",
       "      <td>Earthquake</td>\n",
       "      <td>15.0</td>\n",
       "      <td>NaN</td>\n",
       "      <td>NaN</td>\n",
       "      <td>5.8</td>\n",
       "      <td>6.309573e+05</td>\n",
       "      <td>...</td>\n",
       "      <td>NaN</td>\n",
       "      <td>NaN</td>\n",
       "      <td>NaN</td>\n",
       "      <td>NaN</td>\n",
       "      <td>NaN</td>\n",
       "      <td>ISCGEM860856</td>\n",
       "      <td>ISCGEM</td>\n",
       "      <td>ISCGEM</td>\n",
       "      <td>ISCGEM</td>\n",
       "      <td>Automatic</td>\n",
       "    </tr>\n",
       "    <tr>\n",
       "      <th>4</th>\n",
       "      <td>1/9/65</td>\n",
       "      <td>13:32:50</td>\n",
       "      <td>11.938</td>\n",
       "      <td>126.427</td>\n",
       "      <td>Earthquake</td>\n",
       "      <td>15.0</td>\n",
       "      <td>NaN</td>\n",
       "      <td>NaN</td>\n",
       "      <td>5.8</td>\n",
       "      <td>6.309573e+05</td>\n",
       "      <td>...</td>\n",
       "      <td>NaN</td>\n",
       "      <td>NaN</td>\n",
       "      <td>NaN</td>\n",
       "      <td>NaN</td>\n",
       "      <td>NaN</td>\n",
       "      <td>ISCGEM860890</td>\n",
       "      <td>ISCGEM</td>\n",
       "      <td>ISCGEM</td>\n",
       "      <td>ISCGEM</td>\n",
       "      <td>Automatic</td>\n",
       "    </tr>\n",
       "  </tbody>\n",
       "</table>\n",
       "<p>5 rows × 22 columns</p>\n",
       "</div>"
      ],
      "text/plain": [
       "     Date      Time  Latitude  Longitude        Type  Depth  Depth Error  \\\n",
       "0  1/2/65  13:44:18    19.246    145.616  Earthquake  131.6          NaN   \n",
       "1  1/4/65  11:29:49     1.863    127.352  Earthquake   80.0          NaN   \n",
       "2  1/5/65  18:05:58   -20.579   -173.972  Earthquake   20.0          NaN   \n",
       "3  1/8/65  18:49:43   -59.076    -23.557  Earthquake   15.0          NaN   \n",
       "4  1/9/65  13:32:50    11.938    126.427  Earthquake   15.0          NaN   \n",
       "\n",
       "   Depth Seismic Stations  Magnitude  10 ^ Magnitude  ...  \\\n",
       "0                     NaN        6.0    1.000000e+06  ...   \n",
       "1                     NaN        5.8    6.309573e+05  ...   \n",
       "2                     NaN        6.2    1.584893e+06  ...   \n",
       "3                     NaN        5.8    6.309573e+05  ...   \n",
       "4                     NaN        5.8    6.309573e+05  ...   \n",
       "\n",
       "  Magnitude Seismic Stations  Azimuthal Gap  Horizontal Distance  \\\n",
       "0                        NaN            NaN                  NaN   \n",
       "1                        NaN            NaN                  NaN   \n",
       "2                        NaN            NaN                  NaN   \n",
       "3                        NaN            NaN                  NaN   \n",
       "4                        NaN            NaN                  NaN   \n",
       "\n",
       "   Horizontal Error  Root Mean Square            ID  Source Location Source  \\\n",
       "0               NaN               NaN  ISCGEM860706  ISCGEM          ISCGEM   \n",
       "1               NaN               NaN  ISCGEM860737  ISCGEM          ISCGEM   \n",
       "2               NaN               NaN  ISCGEM860762  ISCGEM          ISCGEM   \n",
       "3               NaN               NaN  ISCGEM860856  ISCGEM          ISCGEM   \n",
       "4               NaN               NaN  ISCGEM860890  ISCGEM          ISCGEM   \n",
       "\n",
       "  Magnitude Source     Status  \n",
       "0           ISCGEM  Automatic  \n",
       "1           ISCGEM  Automatic  \n",
       "2           ISCGEM  Automatic  \n",
       "3           ISCGEM  Automatic  \n",
       "4           ISCGEM  Automatic  \n",
       "\n",
       "[5 rows x 22 columns]"
      ]
     },
     "execution_count": 179,
     "metadata": {},
     "output_type": "execute_result"
    }
   ],
   "source": [
    "# Answer 10\n",
    "path = os.path.join ('earthquakes_database.csv')\n",
    "earthquakes = pd.read_csv(path)\n",
    "earthquakes.head()"
   ]
  },
  {
   "cell_type": "code",
   "execution_count": 188,
   "metadata": {},
   "outputs": [],
   "source": [
    "Source = list(earthquakes['Source'].unique())"
   ]
  },
  {
   "cell_type": "code",
   "execution_count": null,
   "metadata": {},
   "outputs": [],
   "source": []
  },
  {
   "cell_type": "code",
   "execution_count": null,
   "metadata": {},
   "outputs": [],
   "source": []
  },
  {
   "cell_type": "code",
   "execution_count": null,
   "metadata": {},
   "outputs": [],
   "source": []
  },
  {
   "cell_type": "code",
   "execution_count": null,
   "metadata": {},
   "outputs": [],
   "source": []
  },
  {
   "cell_type": "code",
   "execution_count": null,
   "metadata": {},
   "outputs": [],
   "source": []
  },
  {
   "cell_type": "code",
   "execution_count": 180,
   "metadata": {},
   "outputs": [],
   "source": [
    "new_df = pd.DataFrame()"
   ]
  },
  {
   "cell_type": "code",
   "execution_count": 181,
   "metadata": {},
   "outputs": [],
   "source": [
    "new_df['Source'] = earthquakes['Source']"
   ]
  },
  {
   "cell_type": "code",
   "execution_count": 182,
   "metadata": {},
   "outputs": [],
   "source": [
    "new_df[\"Magnitude\"] = earthquakes['Magnitude']"
   ]
  },
  {
   "cell_type": "code",
   "execution_count": 183,
   "metadata": {},
   "outputs": [],
   "source": [
    "new_df.set_index('Source',inplace= True)"
   ]
  },
  {
   "cell_type": "code",
   "execution_count": 187,
   "metadata": {},
   "outputs": [
    {
     "data": {
      "text/html": [
       "<div>\n",
       "<style scoped>\n",
       "    .dataframe tbody tr th:only-of-type {\n",
       "        vertical-align: middle;\n",
       "    }\n",
       "\n",
       "    .dataframe tbody tr th {\n",
       "        vertical-align: top;\n",
       "    }\n",
       "\n",
       "    .dataframe thead th {\n",
       "        text-align: right;\n",
       "    }\n",
       "</style>\n",
       "<table border=\"1\" class=\"dataframe\">\n",
       "  <thead>\n",
       "    <tr style=\"text-align: right;\">\n",
       "      <th></th>\n",
       "      <th>Magnitude</th>\n",
       "    </tr>\n",
       "    <tr>\n",
       "      <th>Source</th>\n",
       "      <th></th>\n",
       "    </tr>\n",
       "  </thead>\n",
       "  <tbody>\n",
       "    <tr>\n",
       "      <th>AK</th>\n",
       "      <td>5.858333</td>\n",
       "    </tr>\n",
       "    <tr>\n",
       "      <th>ATLAS</th>\n",
       "      <td>5.706667</td>\n",
       "    </tr>\n",
       "    <tr>\n",
       "      <th>CI</th>\n",
       "      <td>5.953607</td>\n",
       "    </tr>\n",
       "    <tr>\n",
       "      <th>GCMT</th>\n",
       "      <td>5.885455</td>\n",
       "    </tr>\n",
       "    <tr>\n",
       "      <th>ISCGEM</th>\n",
       "      <td>6.007805</td>\n",
       "    </tr>\n",
       "    <tr>\n",
       "      <th>ISCGEMSUP</th>\n",
       "      <td>6.000833</td>\n",
       "    </tr>\n",
       "    <tr>\n",
       "      <th>NC</th>\n",
       "      <td>6.029804</td>\n",
       "    </tr>\n",
       "    <tr>\n",
       "      <th>NN</th>\n",
       "      <td>5.725000</td>\n",
       "    </tr>\n",
       "    <tr>\n",
       "      <th>OFFICIAL</th>\n",
       "      <td>8.712500</td>\n",
       "    </tr>\n",
       "    <tr>\n",
       "      <th>PR</th>\n",
       "      <td>5.800000</td>\n",
       "    </tr>\n",
       "    <tr>\n",
       "      <th>SE</th>\n",
       "      <td>5.800000</td>\n",
       "    </tr>\n",
       "    <tr>\n",
       "      <th>US</th>\n",
       "      <td>5.865279</td>\n",
       "    </tr>\n",
       "    <tr>\n",
       "      <th>UW</th>\n",
       "      <td>5.966667</td>\n",
       "    </tr>\n",
       "  </tbody>\n",
       "</table>\n",
       "</div>"
      ],
      "text/plain": [
       "           Magnitude\n",
       "Source              \n",
       "AK          5.858333\n",
       "ATLAS       5.706667\n",
       "CI          5.953607\n",
       "GCMT        5.885455\n",
       "ISCGEM      6.007805\n",
       "ISCGEMSUP   6.000833\n",
       "NC          6.029804\n",
       "NN          5.725000\n",
       "OFFICIAL    8.712500\n",
       "PR          5.800000\n",
       "SE          5.800000\n",
       "US          5.865279\n",
       "UW          5.966667"
      ]
     },
     "execution_count": 187,
     "metadata": {},
     "output_type": "execute_result"
    }
   ],
   "source": [
    "new_df.groupby('Source').mean()"
   ]
  },
  {
   "cell_type": "code",
   "execution_count": null,
   "metadata": {},
   "outputs": [],
   "source": []
  },
  {
   "cell_type": "code",
   "execution_count": null,
   "metadata": {},
   "outputs": [],
   "source": []
  },
  {
   "cell_type": "code",
   "execution_count": null,
   "metadata": {},
   "outputs": [],
   "source": []
  }
 ],
 "metadata": {
  "kernelspec": {
   "display_name": "Python 3",
   "language": "python",
   "name": "python3"
  },
  "language_info": {
   "codemirror_mode": {
    "name": "ipython",
    "version": 3
   },
   "file_extension": ".py",
   "mimetype": "text/x-python",
   "name": "python",
   "nbconvert_exporter": "python",
   "pygments_lexer": "ipython3",
   "version": "3.8.3"
  }
 },
 "nbformat": 4,
 "nbformat_minor": 4
}
