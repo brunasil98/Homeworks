{
 "cells": [
  {
   "cell_type": "code",
   "execution_count": null,
   "metadata": {},
   "outputs": [],
   "source": [
    "create table new_1 as \n",
    "select emp_no,employees.first_name,employees.last_name,\n",
    "employees.birth_date,titles.title,titles.from_date,\n",
    "titles.to_date\n",
    "from employees\n",
    "join titles using (emp_no)\n",
    "where birth_date > '1952-01-01'\n",
    "and birth_date < '1955-12-31'\n",
    "order by emp_no asc;\n"
   ]
  },
  {
   "cell_type": "code",
   "execution_count": null,
   "metadata": {},
   "outputs": [],
   "source": [
    "--- selects only the current title for \n",
    "-- each employee.\n",
    "\n",
    "create table new_2 as \n",
    "select  DISTINCT (emp_no), first_name, last_name, \n",
    "birth_date, title,from_date,to_date\n",
    "from new_1"
   ]
  },
  {
   "cell_type": "code",
   "execution_count": null,
   "metadata": {},
   "outputs": [],
   "source": [
    "-- Count the total number of employees about to \n",
    "-- retire by their current job title\n",
    "select count(title), title\n",
    "from new_2\n",
    "group by title\n"
   ]
  },
  {
   "cell_type": "code",
   "execution_count": null,
   "metadata": {},
   "outputs": [],
   "source": [
    "-- Count the total number \n",
    "-- of employees per department\n",
    "create table new_3 as \n",
    "select  emp_no, dept_emp.dept_no\n",
    "from employees\n",
    "join dept_emp using (emp_no)\n",
    "order by emp_no asc;"
   ]
  },
  {
   "cell_type": "code",
   "execution_count": null,
   "metadata": {},
   "outputs": [],
   "source": [
    "select departments.dept_name, count (departments.dept_name)\n",
    "from new_3\n",
    "join departments using (dept_no)\n",
    "group by dept_name;\n"
   ]
  }
 ],
 "metadata": {
  "kernelspec": {
   "display_name": "Python 3",
   "language": "python",
   "name": "python3"
  },
  "language_info": {
   "codemirror_mode": {
    "name": "ipython",
    "version": 3
   },
   "file_extension": ".py",
   "mimetype": "text/x-python",
   "name": "python",
   "nbconvert_exporter": "python",
   "pygments_lexer": "ipython3",
   "version": "3.8.3"
  }
 },
 "nbformat": 4,
 "nbformat_minor": 4
}
